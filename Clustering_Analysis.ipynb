{
 "cells": [
  {
   "cell_type": "code",
   "execution_count": 1,
   "metadata": {
    "ExecuteTime": {
     "end_time": "2020-11-26T09:07:17.120624Z",
     "start_time": "2020-11-26T09:07:11.240638Z"
    }
   },
   "outputs": [],
   "source": [
    "import pandas as pd\n",
    "import pickle\n",
    "#import graph_tool.all as gt\n",
    "import numpy as np\n",
    "import matplotlib.pyplot as plt\n",
    "from matplotlib import colors\n",
    "import seaborn as sns\n",
    "\n",
    "import networkx as nx\n",
    "import random\n",
    "import copy\n",
    "import math\n",
    "\n",
    "from information_functions import *\n",
    "\n",
    "%matplotlib inline"
   ]
  },
  {
   "cell_type": "markdown",
   "metadata": {
    "ExecuteTime": {
     "end_time": "2020-11-26T09:07:17.421062Z",
     "start_time": "2020-11-26T09:07:17.122788Z"
    }
   },
   "source": [
    "# Uploading our dataset"
   ]
  },
  {
   "cell_type": "code",
   "execution_count": 2,
   "metadata": {
    "ExecuteTime": {
     "end_time": "2020-11-26T09:07:17.443228Z",
     "start_time": "2020-11-26T09:07:17.424193Z"
    }
   },
   "outputs": [],
   "source": [
    "file_path = './data/nosology_updated.csv'\n",
    "\n",
    "dataSkelDys=pd.read_csv(file_path)"
   ]
  },
  {
   "cell_type": "code",
   "execution_count": 3,
   "metadata": {
    "ExecuteTime": {
     "end_time": "2020-11-26T09:07:17.475023Z",
     "start_time": "2020-11-26T09:07:17.445343Z"
    }
   },
   "outputs": [
    {
     "data": {
      "text/html": [
       "<div>\n",
       "<style scoped>\n",
       "    .dataframe tbody tr th:only-of-type {\n",
       "        vertical-align: middle;\n",
       "    }\n",
       "\n",
       "    .dataframe tbody tr th {\n",
       "        vertical-align: top;\n",
       "    }\n",
       "\n",
       "    .dataframe thead th {\n",
       "        text-align: right;\n",
       "    }\n",
       "</style>\n",
       "<table border=\"1\" class=\"dataframe\">\n",
       "  <thead>\n",
       "    <tr style=\"text-align: right;\">\n",
       "      <th></th>\n",
       "      <th>Unnamed: 0</th>\n",
       "      <th>X</th>\n",
       "      <th>Group</th>\n",
       "      <th>inheri</th>\n",
       "      <th>Gene</th>\n",
       "      <th>Omim</th>\n",
       "      <th>Orph</th>\n",
       "      <th>GroupN</th>\n",
       "    </tr>\n",
       "  </thead>\n",
       "  <tbody>\n",
       "    <tr>\n",
       "      <th>0</th>\n",
       "      <td>1.0</td>\n",
       "      <td>1.0</td>\n",
       "      <td>1. FGFR3 chondrodysplasia group</td>\n",
       "      <td>NaN</td>\n",
       "      <td>NaN</td>\n",
       "      <td>NaN</td>\n",
       "      <td>NaN</td>\n",
       "      <td>NaN</td>\n",
       "    </tr>\n",
       "    <tr>\n",
       "      <th>1</th>\n",
       "      <td>2.0</td>\n",
       "      <td>2.0</td>\n",
       "      <td>Thanatophoric dysplasia type 1</td>\n",
       "      <td>AD</td>\n",
       "      <td>FGFR3</td>\n",
       "      <td>187600.0</td>\n",
       "      <td>18060.0</td>\n",
       "      <td>1.0</td>\n",
       "    </tr>\n",
       "    <tr>\n",
       "      <th>2</th>\n",
       "      <td>3.0</td>\n",
       "      <td>3.0</td>\n",
       "      <td>Thanatophoric dysplasia type 2</td>\n",
       "      <td>AD</td>\n",
       "      <td>FGFR3</td>\n",
       "      <td>187601.0</td>\n",
       "      <td>93274.0</td>\n",
       "      <td>1.0</td>\n",
       "    </tr>\n",
       "    <tr>\n",
       "      <th>3</th>\n",
       "      <td>4.0</td>\n",
       "      <td>4.0</td>\n",
       "      <td>Severe achondroplasia with developmental delay...</td>\n",
       "      <td>AD</td>\n",
       "      <td>FGFR3</td>\n",
       "      <td>616482.0</td>\n",
       "      <td>85165.0</td>\n",
       "      <td>1.0</td>\n",
       "    </tr>\n",
       "    <tr>\n",
       "      <th>4</th>\n",
       "      <td>5.0</td>\n",
       "      <td>5.0</td>\n",
       "      <td>Achondroplasia</td>\n",
       "      <td>AD</td>\n",
       "      <td>FGFR3</td>\n",
       "      <td>100800.0</td>\n",
       "      <td>15.0</td>\n",
       "      <td>1.0</td>\n",
       "    </tr>\n",
       "    <tr>\n",
       "      <th>...</th>\n",
       "      <td>...</td>\n",
       "      <td>...</td>\n",
       "      <td>...</td>\n",
       "      <td>...</td>\n",
       "      <td>...</td>\n",
       "      <td>...</td>\n",
       "      <td>...</td>\n",
       "      <td>...</td>\n",
       "    </tr>\n",
       "    <tr>\n",
       "      <th>768</th>\n",
       "      <td>768.0</td>\n",
       "      <td>768.0</td>\n",
       "      <td>NaN</td>\n",
       "      <td>AD</td>\n",
       "      <td>GDF6</td>\n",
       "      <td>617898.0</td>\n",
       "      <td>NaN</td>\n",
       "      <td>42.0</td>\n",
       "    </tr>\n",
       "    <tr>\n",
       "      <th>769</th>\n",
       "      <td>769.0</td>\n",
       "      <td>769.0</td>\n",
       "      <td>Radio-ulnar synostosis with amegakaryocytic th...</td>\n",
       "      <td>AD</td>\n",
       "      <td>HOXA11</td>\n",
       "      <td>605432.0</td>\n",
       "      <td>71289.0</td>\n",
       "      <td>42.0</td>\n",
       "    </tr>\n",
       "    <tr>\n",
       "      <th>770</th>\n",
       "      <td>770.0</td>\n",
       "      <td>770.0</td>\n",
       "      <td>NaN</td>\n",
       "      <td>AD</td>\n",
       "      <td>MECOM</td>\n",
       "      <td>616738.0</td>\n",
       "      <td>NaN</td>\n",
       "      <td>42.0</td>\n",
       "    </tr>\n",
       "    <tr>\n",
       "      <th>771</th>\n",
       "      <td>771.0</td>\n",
       "      <td>771.0</td>\n",
       "      <td>Liebenberg syndrome</td>\n",
       "      <td>AD</td>\n",
       "      <td>PITX1</td>\n",
       "      <td>186550.0</td>\n",
       "      <td>1275.0</td>\n",
       "      <td>42.0</td>\n",
       "    </tr>\n",
       "    <tr>\n",
       "      <th>772</th>\n",
       "      <td>772.0</td>\n",
       "      <td>772.0</td>\n",
       "      <td>SAMS syndrome</td>\n",
       "      <td>AR</td>\n",
       "      <td>GSC</td>\n",
       "      <td>602471.0</td>\n",
       "      <td>397623.0</td>\n",
       "      <td>42.0</td>\n",
       "    </tr>\n",
       "  </tbody>\n",
       "</table>\n",
       "<p>773 rows × 8 columns</p>\n",
       "</div>"
      ],
      "text/plain": [
       "     Unnamed: 0      X                                              Group  \\\n",
       "0           1.0    1.0                    1. FGFR3 chondrodysplasia group   \n",
       "1           2.0    2.0                     Thanatophoric dysplasia type 1   \n",
       "2           3.0    3.0                     Thanatophoric dysplasia type 2   \n",
       "3           4.0    4.0  Severe achondroplasia with developmental delay...   \n",
       "4           5.0    5.0                                     Achondroplasia   \n",
       "..          ...    ...                                                ...   \n",
       "768       768.0  768.0                                                NaN   \n",
       "769       769.0  769.0  Radio-ulnar synostosis with amegakaryocytic th...   \n",
       "770       770.0  770.0                                                NaN   \n",
       "771       771.0  771.0                                Liebenberg syndrome   \n",
       "772       772.0  772.0                                      SAMS syndrome   \n",
       "\n",
       "    inheri    Gene      Omim      Orph  GroupN  \n",
       "0      NaN     NaN       NaN       NaN     NaN  \n",
       "1       AD   FGFR3  187600.0   18060.0     1.0  \n",
       "2       AD   FGFR3  187601.0   93274.0     1.0  \n",
       "3       AD   FGFR3  616482.0   85165.0     1.0  \n",
       "4       AD   FGFR3  100800.0      15.0     1.0  \n",
       "..     ...     ...       ...       ...     ...  \n",
       "768     AD    GDF6  617898.0       NaN    42.0  \n",
       "769     AD  HOXA11  605432.0   71289.0    42.0  \n",
       "770     AD   MECOM  616738.0       NaN    42.0  \n",
       "771     AD   PITX1  186550.0    1275.0    42.0  \n",
       "772     AR     GSC  602471.0  397623.0    42.0  \n",
       "\n",
       "[773 rows x 8 columns]"
      ]
     },
     "execution_count": 3,
     "metadata": {},
     "output_type": "execute_result"
    }
   ],
   "source": [
    "dataSkelDys"
   ]
  },
  {
   "cell_type": "markdown",
   "metadata": {},
   "source": [
    "# Extracting Human Annotated Groups\n",
    "\n",
    "The next cell is done using the data from the dictionary of skeletal dysplasias"
   ]
  },
  {
   "cell_type": "code",
   "execution_count": 10,
   "metadata": {
    "ExecuteTime": {
     "end_time": "2020-11-26T09:21:18.419176Z",
     "start_time": "2020-11-26T09:21:18.341629Z"
    }
   },
   "outputs": [],
   "source": [
    "SkelDysp_HumanAnottatedGroups = {}\n",
    "\n",
    "for i, row in dataSkelDys.iterrows():\n",
    "    \n",
    "    g = row['GroupN']\n",
    "    f = row['Omim']\n",
    "    \n",
    "    g = str(g)\n",
    "    g = g.rsplit('.')[0]\n",
    "    f = str(f)\n",
    "    \n",
    "    if g != 'nan':\n",
    "        \n",
    "        if g not in SkelDysp_HumanAnottatedGroups.keys():        \n",
    "            SkelDysp_HumanAnottatedGroups[g]=[]\n",
    "            \n",
    "        if f not in SkelDysp_HumanAnottatedGroups[g]:\n",
    "            f = f.rsplit('.')[0]\n",
    "            f = 'OMIM:'+ f\n",
    "\n",
    "            SkelDysp_HumanAnottatedGroups[g].append(f)\n",
    "\n",
    "    "
   ]
  },
  {
   "cell_type": "markdown",
   "metadata": {},
   "source": [
    "# Comparing blocks and dictionaries containing skeletal dysplasias\n",
    "\n",
    "## 1. Importing block data from pickle objects"
   ]
  },
  {
   "cell_type": "code",
   "execution_count": 11,
   "metadata": {
    "ExecuteTime": {
     "end_time": "2020-11-26T09:21:21.466709Z",
     "start_time": "2020-11-26T09:21:21.455226Z"
    }
   },
   "outputs": [],
   "source": [
    "pickle_in = open(\"./data/Dict_Data_.pickle\", \"rb\")\n",
    "Dictionary_Data = pickle.load(pickle_in) #### Block Data"
   ]
  },
  {
   "cell_type": "code",
   "execution_count": 12,
   "metadata": {
    "ExecuteTime": {
     "end_time": "2020-11-26T09:21:21.985735Z",
     "start_time": "2020-11-26T09:21:21.982027Z"
    }
   },
   "outputs": [
    {
     "data": {
      "text/plain": [
       "dict_keys(['dict_EdgeCounts', 'RAW_EdgeCounts', 'block_TotalDegree', 'sorted_TotalDegree', 'block_AverageDegree', 'sorted_AverageDegree', 'sorted_EdgeCounts', 'blockDictionary_GD', 'blockDictionary_Ph', 'heatMAP', 'blockDictionary'])"
      ]
     },
     "execution_count": 12,
     "metadata": {},
     "output_type": "execute_result"
    }
   ],
   "source": [
    "Dictionary_Data.keys()"
   ]
  },
  {
   "cell_type": "code",
   "execution_count": 13,
   "metadata": {
    "ExecuteTime": {
     "end_time": "2020-11-26T09:21:22.597866Z",
     "start_time": "2020-11-26T09:21:22.592498Z"
    }
   },
   "outputs": [],
   "source": [
    "dict_EdgeCounts = Dictionary_Data['dict_EdgeCounts']\n",
    "RAW_EdgeCounts = Dictionary_Data['RAW_EdgeCounts']\n",
    "block_TotalDegree = Dictionary_Data['block_TotalDegree']\n",
    "sorted_TotalDegree = Dictionary_Data['sorted_TotalDegree']\n",
    "block_AverageDegree = Dictionary_Data['block_AverageDegree']\n",
    "sorted_AverageDegree = Dictionary_Data['sorted_AverageDegree']\n",
    "sorted_EdgeCounts = Dictionary_Data['sorted_EdgeCounts']\n",
    "blockDictionary_GD = Dictionary_Data['blockDictionary_GD']\n",
    "blockDictionary_Ph = Dictionary_Data['blockDictionary_Ph']\n",
    "heatMAP = Dictionary_Data['heatMAP']\n",
    "blockDictionary = Dictionary_Data['blockDictionary']"
   ]
  },
  {
   "cell_type": "code",
   "execution_count": 15,
   "metadata": {},
   "outputs": [],
   "source": [
    "pickle_in = open(\"./data/G_connected_NX_.pickle\", \"rb\")\n",
    "G_connected = pickle.load(pickle_in)"
   ]
  },
  {
   "cell_type": "markdown",
   "metadata": {},
   "source": [
    "## 2. Inspecting blocks using the imported function\n",
    "\n",
    "Please, use the next function to analyse the different blocks of Genes/Diseases and Phenotypic abnormalities. \n",
    "\n",
    "Guide: \n",
    "Please, modify the variables number_of_block_GD and number_of_block_Ph to explore them."
   ]
  },
  {
   "cell_type": "code",
   "execution_count": 131,
   "metadata": {
    "ExecuteTime": {
     "end_time": "2020-11-26T09:29:48.795518Z",
     "start_time": "2020-11-26T09:29:48.458816Z"
    }
   },
   "outputs": [
    {
     "name": "stdout",
     "output_type": "stream",
     "text": [
      "2157\n",
      "The number of edges between these blocks is:  2157\n",
      "The normalised edge counts between these blocks is:  0.02867512163994576\n",
      "The number of nodes in the subgraph is: 465\n",
      "The size of the largest component in the subgraph of these two blocks is: 8\n",
      "\n",
      "['TRAF7', 'PTGIS', 'KCNQ2', 'ALDH6A1', 'NFKB2', 'PADI6', 'TULP1', 'PLCE1', 'TPK1', 'C1R', 'ING1', 'ESR1', 'ACD', 'TAL1', 'NCF4', 'FGF14', 'KDR', 'CYBB', 'MBTPS2', 'FOXC2', 'IGSF1', 'RNF125', 'PTCH2', 'AKT1', 'HOGA1', 'LINGO1', 'CHIC2', 'DGAT1', 'SON', 'PEX3', 'SNRPN', 'LRIG2', 'CENPJ', 'TNNT1', 'RETN', 'CASR', 'CDCA7', 'SLC19A3', 'KIDINS220', 'LPP', 'DEGS1', 'PATL2', 'AIMP1', 'IMPG2', 'CORIN', 'SEC63', 'KCNQ3', 'TBX19', 'COQ4', 'FAM20A', 'NAXD', 'CCL11', 'CBX2', 'TTC7A', 'MINPP1', 'RAD50', 'GJA1', 'DRD4', 'ASS1', 'SLC5A2', 'HTRA1', 'SLC35A3', 'GSDME', 'FBLN1', 'COASY', 'SLC25A1', 'FAT4']\n",
      "\n",
      "['Cone-shaped epiphyses of the phalanges of the hand', 'Platyspondyly', 'Lumbar hyperlordosis', 'Short long bone', 'Limited elbow extension', 'Genu varum', 'Flared metaphysis', 'Childhood onset short-limb short stature', 'Wide-cupped costochondral junctions', 'Small foramen magnum', 'Severe platyspondyly', 'Small abnormally formed scapulae', 'Lethal short-limbed short stature', 'Metaphyseal irregularity', 'Neonatal short-limb short stature', 'Short femoral neck', 'Limited hip extension', 'Brain stem compression', 'Genu valgum', 'Broad phalanx', 'Broad metatarsal', 'Broad metacarpals', 'Nasal obstruction', 'Femoral bowing', 'Hip osteoarthritis', 'Metaphyseal widening', 'Broad ribs', 'Disproportionate short-trunk short stature', 'Epiphyseal dysplasia', 'Hypoplasia of the odontoid process', 'Ovoid vertebral bodies', 'Erlenmeyer flask deformity of the femurs', 'Spondylometaphyseal dysplasia', 'Coxa vara', 'Hyperconvex vertebral body endplates', 'Narrow greater sacrosciatic notches', 'Tibial bowing', 'Hypoplastic inferior ilia', 'Metaphyseal cupping', 'Cupped ribs', 'Flat acetabular roof', 'Prominent styloid process of ulna', 'Posterior rib cupping', 'Long fibula', 'Delayed ossification of carpal bones', 'Anterior wedging of T12', 'Spondyloepimetaphyseal dysplasia', 'Cone-shaped metacarpal epiphyses', 'Coxa valga', 'Cone-shaped epiphyses fused within their metaphyses', 'Long ulna', 'Broad long bone diaphyses', 'Anterior wedging of T11', 'Cone-shaped distal radial epiphysis', 'Spondylolysis', 'Bulbous tips of toes', 'Antegonial notching of mandible', 'Wrist flexion contracture', 'Long phalanx of finger', 'Partial fusion of carpals', 'Increased density of long bone diaphyses', 'Partial fusion of tarsals', 'Coat hanger sign of ribs', 'Broad phalanges of the hand', 'Anteriorly placed odontoid process', 'Short chordae tendineae of the mitral valve', 'Short chordae tendineae of the tricuspid valve', 'Absent frontal sinuses', 'Lateral femoral bowing', 'Thick skull base', 'Bipartite calcaneus', 'Short 5th metacarpal', 'Abnormality of the fifth metatarsal bone', 'Short 3rd metacarpal', 'Accessory carpal bones', 'Limited knee flexion', 'Ureteral stenosis', 'Frontal hirsutism', 'Anterior concavity of thoracic vertebrae', 'Obtuse angle of mandible', 'Abnormal foot bone ossification', 'Mesomelic arm shortening', 'Localized skin lesion', 'Toe clinodactyly', 'Abnormal hand bone ossification', 'Abnormal oral frenulum morphology', 'Mesomelic leg shortening', 'Knee dislocation', 'Squared iliac bones', 'Osteoarthritis', 'Enlarged epiphyses', 'Narrow iliac wings', 'Irregular vertebral endplates', 'Delayed epiphyseal ossification', 'Premature osteoarthritis', 'Hypoplastic pubic bone', 'Hypoplastic ischia', 'Coronal cleft vertebrae', 'Aplasia/Hypoplasia of the capital femoral epiphysis', 'Large tarsal bones', 'Beaking of vertebral bodies', 'Enlarged joints', 'Broad first metatarsal', 'Barrel-shaped chest', 'Bladder carcinoma', 'Abnormality of dental enamel', 'Broad long bones', 'Club-shaped distal femur', 'Bony paranasal bossing', 'Metaphyseal dysplasia', 'Spinal cord compression', 'Spontaneous abortion', 'Costal cartilage calcification', 'Absent primary metaphyseal spongiosa', 'Halberd-shaped pelvis', 'Dumbbell-shaped metaphyses', 'Abnormal metaphyseal vascular invasion', 'Hyperplasia of the femoral trochanters', 'Anisospondyly', 'Relatively short spine', 'Abnormal enchondral ossification', 'Flared humeral metaphysis', 'Long coccyx', 'Flared femoral metaphysis', 'Scapular muscle atrophy', 'Spondyloepiphyseal dysplasia', 'Nonprogressive muscular atrophy', 'Childhood-onset short-trunk short stature', 'Brachytelomesophalangy', 'Arthropathy', 'Short distal phalanx of toe', 'Irregular acetabular roof', 'Severe carpal ossification delay', 'Irregular rachitic-like metaphyses', 'Carpal bone hypoplasia', 'Broad skull', 'Proportionate short stature', 'Fifth metacarpal with ulnar notch', 'Abnormality of the abdominal wall', 'Atlantoaxial dislocation', 'Heart murmur', 'Thoracolumbar kyphoscoliosis', 'Shallow acetabular fossae', 'Irregular carpal bones', 'Metaphyseal chondrodysplasia', 'Anterior rib cupping', 'Multiple rib fractures', 'Hyposegmentation of neutrophil nuclei', 'Moderately short stature', 'Wide pubic symphysis', 'Delayed pubic bone ossification', 'Persistent open anterior fontanelle', 'Hypoplastic frontal sinuses', 'Absent paranasal sinuses', 'Long second metacarpal', 'Abnormal facility in opposing the shoulders', 'Osteoporosis of vertebrae', 'Multiple small vertebral fractures', 'Hepatic calcification', 'Multiple epiphyseal dysplasia', 'Shortening of all proximal phalanges of the fingers', 'Disproportionate short-limb short stature', 'Cervical kyphosis', 'Dumbbell-shaped femur', 'Horizontal sacrum', 'Hypoplasia of the femoral head', 'Double-layered patella', 'Flat capital femoral epiphysis', 'Limited elbow flexion', 'Absent or minimally ossified vertebral bodies', 'Ulnar deviation of finger', 'Flattened epiphysis', 'Hypertrophic auricular cartilage', 'Hitchhiker thumb', 'Hypoplastic cervical vertebrae', 'Irregular epiphyses', 'Cystic lesions of the pinnae', 'Glabellar hemangioma', 'Laryngotracheal stenosis', 'Deformed sella turcica', 'Flat glenoid fossa', 'Shield chest', 'Prominent calcaneus', 'Multicentric ossification of proximal humeral epiphyses', 'Multicentric ossification of proximal femoral epiphyses', 'Rhizomelic arm shortening', 'Flaring of lower rib cage', 'Iliac crest serration', 'Atlantoaxial instability', 'Delayed femoral head ossification', 'Multicentric femoral head ossification', 'Broad femoral neck', 'Abnormality of the hip joint', 'Small epiphyses', 'Multiple carpal ossification centers', 'Hypoplasia of the capital femoral epiphysis', 'Deviation of the 5th finger', 'Fixed elbow flexion', 'Bilateral single transverse palmar creases', 'Generalized bone demineralization', 'Narrow vertebral interpedicular distance', 'Intervertebral space narrowing', 'Multiple joint dislocation', 'Spatulate thumbs', 'Large posterior fontanelle', 'Absent nasal bridge', 'Tracheal calcification', 'Tracheal stenosis', 'Broad nail', 'Small finger', 'Disproportionate short stature', 'Fibular overgrowth', 'Cone-shaped capital femoral epiphysis', 'Dysplasia of the femoral head', 'Enlargement of the distal femoral epiphysis', 'Cone-shaped epiphysis of the 1st metacarpal', 'Broad metacarpal epiphyses', 'Radial deviation of the 4th finger', 'Slender metacarpals', 'Proportionate shortening of all digits', 'Flattened metatarsal heads', 'Short proximal phalanx of hallux', 'Thin proximal phalanges with broad epiphyses of the hand', 'Herniation of intervertebral nuclei', 'Hip subluxation', 'Short distal phalanx of the 2nd finger', 'Abnormality of the scapula', 'Ulnar deviation of the wrist', 'Stiff neck', 'Asteroid hyalosis', 'Lumbar kyphoscoliosis', 'Splayed epiphyses', 'Flattened squared-off epiphyses of tubular bones', 'Abnormal cartilage collagen', 'Dumbbell-shaped long bone', 'Morbus Scheuermann', 'Membranous vitreous appearance', 'Narrow femoral neck', 'Absent vertebral body mineralization', 'Short tubular bones of the hand', 'Lethal skeletal dysplasia', 'Disc-like vertebral bodies', 'Decreased cranial base ossification', 'Severe limb shortening', 'Limitation of knee mobility', 'Delayed calcaneal ossification', 'Limited hip movement', 'Neonatal short-trunk short stature', 'Abnormal vitreous humor morphology', 'Rhegmatogenous retinal detachment', 'Pugilistic facies', 'Absent styloid process of ulna', 'Short distal phalanx of the 4th finger', 'Short distal phalanx of the 3rd finger', 'Metaphyseal dappling', 'C1-C2 subluxation', 'Club-shaped proximal femur', 'Knee osteoarthritis', \"Schmorl's node\", \"Heberden's node\", 'Delayed tarsal ossification', 'Mesomelic short stature', 'Phalangeal dislocation', 'Hypoplastic vertebral bodies', 'Calcification of falx cerebri', 'Arthralgia of the hip', 'Dysplastic iliac wings', 'Metaphyseal spurs', 'Congenital finger flexion contractures', 'Advanced ossification of carpal bones', 'Hypoplastic iliac body', 'Large iliac wings', 'Delayed proximal femoral epiphyseal ossification', 'Radial head subluxation', 'Enlargement of the proximal femoral epiphysis', 'Decreased cervical spine mobility', 'Enlarged metacarpophalangeal joints', 'Enlarged interphalangeal joints', 'Calvarial osteosclerosis', 'Cardiac myxoma', 'Irregular tarsal bones', 'Myocarditis', 'Focal lissencephaly', 'Horizontal inferior border of scapula', 'Widened sacrosciatic notch', 'Limited knee extension', 'Carotid artery tortuosity', 'Broad clavicles', 'Ureteral obstruction', 'Biconvex vertebral bodies', 'Wide proximal femoral metaphysis', 'Irregular capital femoral epiphysis', 'Dislocated wrist', 'C2-C3 subluxation', 'Failure of eruption of permanent teeth', 'Tombstone-shaped proximal phalanges', 'Widened distal phalanges', 'Cervical segmentation defect', 'Diaphyseal thickening', 'Thoracolumbar interpediculate narrowness', 'Redundant skin on fingers', 'Lower thoracic kyphosis', 'Degenerative vitreoretinopathy', 'Fragmented irregular epiphyses', 'Small epiphyses of the phalanges of the hand', 'Radial metaphyseal irregularity', 'Spatulate ribs', 'Ulnar metaphyseal irregularity', 'Fragmented epiphyses', 'Abnormality of chromosome segregation', 'Widely patent coronal suture', 'Posterior vertebral hypoplasia', 'Widely patent sagittal suture', 'Broad ischia', 'Small proximal tibial epiphyses', 'Wide tufts of distal phalanges', 'Irregular distal femoral epiphysis', 'Small distal femoral epiphysis', 'Meningeal calcification', 'Irregular proximal tibial epiphyses', 'Crumpled ear', 'Metaphyseal cupping of metacarpals', 'Sparse facial hair', 'Susceptibility to chickenpox', 'Absent pubertal growth spurt', 'Median cleft palate', 'Sternal punctate calcifications', 'Abnormal pelvis bone ossification', 'Abnormality of the vertebral spinous processes', 'Laryngeal calcification', 'Severe hydrops fetalis', 'Patchy variation in bone mineral density', 'Short diaphyses', 'Abnormality of the calcaneus', 'Anterior rib punctate calcifications', 'Abnormal ossification involving the femoral head and neck', 'Cervical instability', 'Advanced tarsal ossification', 'Prominent supraorbital arches in adult', 'Exostoses', 'Osteochondritis Dissecans', 'Abnormality of the epididymis', 'Irregular tarsal ossification', 'Ivory epiphyses of the toes', 'Reduced pancreatic beta cells', 'Streaky metaphyseal sclerosis', 'Dysplastic sacrum', 'Polyarticular chondrocalcinosis', 'Pear-shaped vertebrae', 'Irregular sclerotic endplates', 'Flared irregular rib ends', 'Progressive leg bowing', 'Equinus calcaneus', 'Abnormality of femoral epiphysis', 'Anterior bowing of long bones', 'Long eyelashes in irregular rows', 'Pursed lips', 'Abnormal T cell morphology', 'Abnormal calcification of the carpal bones', 'Progressive calcification of costochondral cartilage', 'Triangular shaped distal phalanges of the hand', 'Flattened femoral head', 'Pseudoepiphyses of hand bones', 'Abnormally ossified vertebrae', 'Blotching pigmentation of the skin', 'Lateral displacement of the femoral head', 'Partial duplication of the distal phalanx of the hallux', 'Radioulnar dislocation', 'Proximal fibular overgrowth', 'Medial deviation of the foot', 'Hump-shaped mound of bone in central and posterior portions of vertebral endplate', 'Short dental roots', 'Lumbar interpedicular narrowing', 'Absent epiphyses', 'Abnormality of the femoral metaphysis', 'Slender distal phalanx of finger', 'Caudal interpedicular narrowing', 'Delayed patellar ossification', 'Large joint dislocations', 'Long distal phalanx of finger', 'Slender proximal phalanx of finger', 'Long proximal phalanx of finger', 'Delayed phalangeal epiphyseal ossification', 'Central vertebral hypoplasia', 'Metaphyseal cupping of proximal phalanges', 'Hypoplasia of the calcaneus', 'Constrictive pericarditis', 'Synovial hypertrophy', 'Generalized morning stiffness', 'Flattened metacarpal heads', 'Broad middle phalanx of finger', 'Proximal femoral metaphyseal abnormality', 'Distal tibial bowing', 'Flat distal femoral epiphysis', 'Abnormality of the knee', 'Abnormal metaphyseal trabeculation', 'Metaphyseal rarefaction', 'Snail-like ilia']\n"
     ]
    },
    {
     "data": {
      "image/png": "[encoded data removed]",
      "text/plain": [
       "<Figure size 1080x1080 with 1 Axes>"
      ]
     },
     "metadata": {},
     "output_type": "display_data"
    }
   ],
   "source": [
    "number_of_block_GD = 33 # Block 33 of Genes and Diseases\n",
    "number_of_block_Ph = 77 # block 77 in the blocks of Phenotypes. Please, notice that these blocks starts from the number 50.\n",
    "\n",
    "inspect_blocks(number_of_block_GD, number_of_block_Ph, \\\n",
    "               RAW_EdgeCounts, dict_EdgeCounts, blockDictionary, G_connected, \"disease\", False)"
   ]
  },
  {
   "cell_type": "markdown",
   "metadata": {},
   "source": [
    "# Clustering analysis and Information Theory analysis"
   ]
  },
  {
   "cell_type": "code",
   "execution_count": 46,
   "metadata": {},
   "outputs": [],
   "source": [
    "n,m = len(SkelDysp_HumanAnottatedGroups), len(blockDictionary_GD) # Defining "
   ]
  },
  {
   "cell_type": "code",
   "execution_count": 32,
   "metadata": {
    "ExecuteTime": {
     "end_time": "2020-11-19T03:59:54.855061Z",
     "start_time": "2020-11-19T03:59:54.843559Z"
    }
   },
   "outputs": [],
   "source": [
    "contM=contingency_matrix(SkelDysp_HumanAnottatedGroups,blockDictionary_GD)"
   ]
  },
  {
   "cell_type": "markdown",
   "metadata": {},
   "source": [
    "Calculating Normalised Mutual Information from the contingency table"
   ]
  },
  {
   "cell_type": "code",
   "execution_count": null,
   "metadata": {
    "ExecuteTime": {
     "end_time": "2020-11-26T10:29:38.034664Z",
     "start_time": "2020-11-26T10:29:38.029204Z"
    }
   },
   "outputs": [],
   "source": [
    "inspect_blocks"
   ]
  },
  {
   "cell_type": "code",
   "execution_count": 34,
   "metadata": {
    "ExecuteTime": {
     "end_time": "2020-11-26T10:29:38.317493Z",
     "start_time": "2020-11-26T10:29:38.313284Z"
    }
   },
   "outputs": [
    {
     "data": {
      "text/plain": [
       "3.521792369228441"
      ]
     },
     "execution_count": 34,
     "metadata": {},
     "output_type": "execute_result"
    }
   ],
   "source": [
    "# Sanity check\n",
    "Entropy, Pointwise = COMPUTE_ENTROPY(contM, C_or_R = 'Rows')\n",
    "Entropy"
   ]
  },
  {
   "cell_type": "code",
   "execution_count": 35,
   "metadata": {
    "ExecuteTime": {
     "end_time": "2020-11-26T10:29:38.607788Z",
     "start_time": "2020-11-26T10:29:38.601816Z"
    }
   },
   "outputs": [
    {
     "data": {
      "text/plain": [
       "<function information_functions.inspect_blocks(b1, b2, RAW, dict_EC, blockD, G_con, filter_out, Node_Labels)>"
      ]
     },
     "execution_count": 35,
     "metadata": {},
     "output_type": "execute_result"
    }
   ],
   "source": [
    "inspect_blocks"
   ]
  },
  {
   "cell_type": "markdown",
   "metadata": {},
   "source": [
    "## Plot of entropy and joint entropy between Blocks and the HPO"
   ]
  },
  {
   "cell_type": "code",
   "execution_count": 38,
   "metadata": {
    "ExecuteTime": {
     "end_time": "2020-11-26T10:29:43.723664Z",
     "start_time": "2020-11-26T10:29:43.666120Z"
    }
   },
   "outputs": [],
   "source": [
    "# Sanity check for Joint Entropy calculation\n",
    "Joint_Entropy, Pointwise_Joint = COMPUTE_JOINT_ENTROPY(contM)"
   ]
  },
  {
   "cell_type": "code",
   "execution_count": 39,
   "metadata": {
    "ExecuteTime": {
     "end_time": "2020-11-26T10:29:44.102253Z",
     "start_time": "2020-11-26T10:29:44.098723Z"
    }
   },
   "outputs": [
    {
     "data": {
      "text/plain": [
       "4.678253953732584"
      ]
     },
     "execution_count": 39,
     "metadata": {},
     "output_type": "execute_result"
    }
   ],
   "source": [
    "Joint_Entropy"
   ]
  },
  {
   "cell_type": "code",
   "execution_count": 41,
   "metadata": {
    "ExecuteTime": {
     "end_time": "2020-11-26T10:29:45.750050Z",
     "start_time": "2020-11-26T10:29:45.747312Z"
    }
   },
   "outputs": [],
   "source": [
    "JointEntropy_pointwise = pd.DataFrame(Pointwise_Joint)"
   ]
  },
  {
   "cell_type": "code",
   "execution_count": 42,
   "metadata": {
    "ExecuteTime": {
     "end_time": "2020-11-26T10:30:37.215998Z",
     "start_time": "2020-11-26T10:30:36.401670Z"
    }
   },
   "outputs": [
    {
     "data": {
      "image/png": "[encoded data removed]",
      "text/plain": [
       "<Figure size 1440x1080 with 2 Axes>"
      ]
     },
     "metadata": {
      "needs_background": "light"
     },
     "output_type": "display_data"
    }
   ],
   "source": [
    "color_map = plt.cm.get_cmap('cividis')\n",
    "colorMap_rev = color_map.reversed()\n",
    "fig, ax = plt.subplots(figsize=(20,15))\n",
    "sns.heatmap(JointEntropy_pointwise, cmap=colorMap_rev, ax=ax)\n",
    "ax.set_xlabel('SBM Blocks')\n",
    "ax.set_ylabel('Human Annotated Groupings')\n",
    "ax.set_title('Joint Entropy')\n",
    "plt.show()"
   ]
  },
  {
   "cell_type": "markdown",
   "metadata": {
    "ExecuteTime": {
     "end_time": "2020-11-26T10:34:34.243377Z",
     "start_time": "2020-11-26T10:34:34.236602Z"
    }
   },
   "source": [
    "## Plot of mutual information between Blocks and the HPO"
   ]
  },
  {
   "cell_type": "code",
   "execution_count": 73,
   "metadata": {
    "ExecuteTime": {
     "end_time": "2020-11-26T10:34:34.898725Z",
     "start_time": "2020-11-26T10:34:34.844169Z"
    }
   },
   "outputs": [],
   "source": [
    "MI_actual, PMI_matrix = COMPUTE_MUTUAL_INFORMATION(contM)"
   ]
  },
  {
   "cell_type": "code",
   "execution_count": 74,
   "metadata": {
    "ExecuteTime": {
     "end_time": "2020-11-26T10:34:35.559787Z",
     "start_time": "2020-11-26T10:34:35.555902Z"
    }
   },
   "outputs": [
    {
     "data": {
      "text/plain": [
       "1.4974137177928497"
      ]
     },
     "execution_count": 74,
     "metadata": {},
     "output_type": "execute_result"
    }
   ],
   "source": [
    "MI_actual"
   ]
  },
  {
   "cell_type": "code",
   "execution_count": 51,
   "metadata": {
    "ExecuteTime": {
     "end_time": "2020-11-26T10:34:36.539601Z",
     "start_time": "2020-11-26T10:34:36.537031Z"
    }
   },
   "outputs": [],
   "source": [
    "Pointwise_MI = pd.DataFrame(PMI_matrix)"
   ]
  },
  {
   "cell_type": "code",
   "execution_count": 52,
   "metadata": {
    "ExecuteTime": {
     "end_time": "2020-11-26T10:36:08.118011Z",
     "start_time": "2020-11-26T10:36:07.311754Z"
    }
   },
   "outputs": [
    {
     "data": {
      "image/png": "[encoded data removed]",
      "text/plain": [
       "<Figure size 1440x1080 with 2 Axes>"
      ]
     },
     "metadata": {
      "needs_background": "light"
     },
     "output_type": "display_data"
    }
   ],
   "source": [
    "\n",
    "fig, ax = plt.subplots(figsize=(20,15))\n",
    "sns.heatmap(Pointwise_MI, cmap='viridis', ax=ax)\n",
    "ax.set_xlabel('SBM Blocks')\n",
    "ax.set_ylabel('Human Annotated Groupings')\n",
    "ax.set_title('Mutual Information')\n",
    "plt.show()"
   ]
  },
  {
   "cell_type": "markdown",
   "metadata": {},
   "source": [
    "# Testing statistical significance by introducing a shuffling operation"
   ]
  },
  {
   "cell_type": "markdown",
   "metadata": {},
   "source": [
    "## Testing with large numbers of swapps"
   ]
  },
  {
   "cell_type": "code",
   "execution_count": 92,
   "metadata": {},
   "outputs": [],
   "source": [
    "dict_GD = copy.deepcopy(blockDictionary_GD)"
   ]
  },
  {
   "cell_type": "code",
   "execution_count": 93,
   "metadata": {},
   "outputs": [],
   "source": [
    "dicts_after_shufflings_large = []\n",
    "number_of_swaps_large = [1,5,10,50,100,500,1000,2000,5000,10000,30000,50000,100000,200000,300000,400000,500000,\\\n",
    "                   600000,700000,800000,900000]\n",
    "\n",
    "for swap in number_of_swaps_large:\n",
    "    dict_GD = copy.deepcopy(blockDictionary_GD)\n",
    "    \n",
    "    for i in range(swap):\n",
    "    \n",
    "        flag = True   \n",
    "\n",
    "        while flag:\n",
    "            rndm_block_1 = np.random.randint(len(dict_GD))\n",
    "            rndm_block_2 = np.random.randint(len(dict_GD))\n",
    "\n",
    "            if rndm_block_1 == rndm_block_2:\n",
    "                continue\n",
    "            else:\n",
    "                flag = False\n",
    "\n",
    "        temp_random_node_1 = random.sample(dict_GD[rndm_block_1],1)\n",
    "        temp_random_node_2 = random.sample(dict_GD[rndm_block_2],1)\n",
    "\n",
    "\n",
    "        temp_random_node_1 = temp_random_node_1[0]\n",
    "        temp_random_node_2 = temp_random_node_2[0]\n",
    "        # Performing the swap: It will have two parts\n",
    "\n",
    "        # 1. appending the node to the another block\n",
    "        dict_GD[rndm_block_1].append(temp_random_node_2)\n",
    "        dict_GD[rndm_block_2].append(temp_random_node_1)\n",
    "\n",
    "        # 2. removing the other node\n",
    "        dict_GD[rndm_block_1].remove(temp_random_node_1)\n",
    "        dict_GD[rndm_block_2].remove(temp_random_node_2)\n",
    "\n",
    "    del temp_random_node_1, temp_random_node_2\n",
    "        \n",
    "    dicts_after_shufflings_large.append(dict_GD)\n",
    "\n",
    "contingency_matrix_shuff = contingency_matrix(SkelDysp_HumanAnottatedGroups,dicts_after_shufflings_large[10])"
   ]
  },
  {
   "cell_type": "code",
   "execution_count": 99,
   "metadata": {},
   "outputs": [],
   "source": [
    "MI_list_large = []\n",
    "\n",
    "for dict_i in dicts_after_shufflings_large:\n",
    "    \n",
    "    contingency_matrix_shuff = contingency_matrix(SkelDysp_HumanAnottatedGroups,dict_i)\n",
    "    MI = COMPUTE_MUTUAL_INFORMATION(contingency_matrix_shuff)[0]\n",
    "    \n",
    "    MI_list_large.append(MI)\n",
    "    \n",
    "    del MI\n",
    "    "
   ]
  },
  {
   "cell_type": "code",
   "execution_count": 115,
   "metadata": {},
   "outputs": [
    {
     "data": {
      "image/png": "[encoded data removed]",
      "text/plain": [
       "<Figure size 720x576 with 1 Axes>"
      ]
     },
     "metadata": {
      "needs_background": "light"
     },
     "output_type": "display_data"
    }
   ],
   "source": [
    "plt.figure(figsize=(10,8))\n",
    "\n",
    "plt.plot(number_of_swaps_large,MI_list_large)\n",
    "plt.plot([number_of_swaps_large[np.argmax(MI_list)],number_of_swaps_large[np.argmax(MI_list)]],\\\n",
    "         [np.min(MI_list),np.max(MI_list)],\"--r\")\n",
    "\n",
    "plt.xlabel(\"Number of shuffles\")\n",
    "plt.ylabel(\"MI\")\n",
    "plt.title(\"Mutual information between block structure and HPO\")\n",
    " \n",
    "plt.show()"
   ]
  },
  {
   "cell_type": "markdown",
   "metadata": {},
   "source": [
    "It is important to notice that the number largest value for Mutual Information is found at the very beginning of the sampling process. This is a hint of the existence of a genuine structure in the Blocks. This means that the way they were created is better than random."
   ]
  },
  {
   "cell_type": "markdown",
   "metadata": {},
   "source": [
    "## Testing with small numbers of swapps"
   ]
  },
  {
   "cell_type": "code",
   "execution_count": 106,
   "metadata": {},
   "outputs": [],
   "source": [
    "dicts_after_shufflings_small = []\n",
    "\n",
    "number_of_swapps_small = [1,5,10,50,100,500,1000,2000,3000,4000,5000,6000,7000,8000,9000,10000]\n",
    "\n",
    "for swap in number_of_swapps_small:\n",
    "    dict_GD = copy.deepcopy(blockDictionary_GD)\n",
    "    \n",
    "    for i in range(swap):\n",
    "    \n",
    "        flag = True   \n",
    "\n",
    "        while flag:\n",
    "            rndm_block_1 = np.random.randint(len(dict_GD))\n",
    "            rndm_block_2 = np.random.randint(len(dict_GD))\n",
    "\n",
    "            if rndm_block_1 == rndm_block_2:\n",
    "                continue\n",
    "            else:\n",
    "                flag = False\n",
    "\n",
    "        temp_random_node_1 = random.sample(dict_GD[rndm_block_1],1)\n",
    "        temp_random_node_2 = random.sample(dict_GD[rndm_block_2],1)\n",
    "\n",
    "\n",
    "        temp_random_node_1 = temp_random_node_1[0]\n",
    "        temp_random_node_2 = temp_random_node_2[0]\n",
    "        # Performing the swap: It will have two parts\n",
    "\n",
    "        # 1. appending the node to the another block\n",
    "        dict_GD[rndm_block_1].append(temp_random_node_2)\n",
    "        dict_GD[rndm_block_2].append(temp_random_node_1)\n",
    "\n",
    "        # 2. removing the other node\n",
    "        dict_GD[rndm_block_1].remove(temp_random_node_1)\n",
    "        dict_GD[rndm_block_2].remove(temp_random_node_2)\n",
    "\n",
    "    del temp_random_node_1, temp_random_node_2\n",
    "        \n",
    "    dicts_after_shufflings_small.append(dict_GD)\n"
   ]
  },
  {
   "cell_type": "code",
   "execution_count": 107,
   "metadata": {},
   "outputs": [],
   "source": [
    "MI_list_small = []\n",
    "\n",
    "for dict_i in dicts_after_shufflings_small:\n",
    "    \n",
    "    contingency_matrix_shuff = contingency_matrix(SkelDysp_HumanAnottatedGroups,dict_i)\n",
    "    MI_small = COMPUTE_MUTUAL_INFORMATION(contingency_matrix_shuff)[0]\n",
    "    \n",
    "    MI_list_small.append(MI_small)\n",
    "    \n",
    "    del MI_small"
   ]
  },
  {
   "cell_type": "code",
   "execution_count": 114,
   "metadata": {},
   "outputs": [
    {
     "data": {
      "image/png": "[encoded data removed]",
      "text/plain": [
       "<Figure size 720x576 with 1 Axes>"
      ]
     },
     "metadata": {
      "needs_background": "light"
     },
     "output_type": "display_data"
    }
   ],
   "source": [
    "plt.figure(figsize=(10,8))\n",
    "\n",
    "plt.plot(number_of_swapps_small,MI_list_small)\n",
    "plt.plot([number_of_swapps_small[np.argmax(MI_list_small)],number_of_swapps_small[np.argmax(MI_list_small)]],\\\n",
    "         [np.min(MI_list_small),np.max(MI_list_small)],\"--r\",\\\n",
    "         label='maximum MI value for {} swapps'.format(number_of_swapps_small[np.argmax(MI_list_small)]))\n",
    "\n",
    "plt.xlabel(\"Number of shuffles\")\n",
    "plt.ylabel(\"MI\")\n",
    "plt.title(\"Mutual information between block structure and HPO\")\n",
    " \n",
    "plt.show()"
   ]
  },
  {
   "cell_type": "markdown",
   "metadata": {},
   "source": [
    "It is important to notice that the number largest value for Mutual Information is found at the very beginning of the sampling process. This is a hint of the existence of a genuine structure in the Blocks. This means that the way they were created is better than random. \n",
    "\n",
    "The trend is the same as in the case of large number of shufflings, but the value and the fluctuation is a bit higher. In the long run, as in the plot for large number of shufflings, this fluctuation vanishes."
   ]
  },
  {
   "cell_type": "markdown",
   "metadata": {},
   "source": [
    "# RESULTS -----------------------------------------------------------------------"
   ]
  },
  {
   "cell_type": "code",
   "execution_count": 65,
   "metadata": {
    "ExecuteTime": {
     "end_time": "2020-11-22T10:29:06.971277Z",
     "start_time": "2020-11-22T10:13:42.927117Z"
    }
   },
   "outputs": [],
   "source": [
    "dictionary_shuffled_blocks = []\n",
    "iterations = 500\n",
    "\n",
    "for i in range(iterations):\n",
    "\n",
    "    number_of_swaps = [100000]\n",
    "\n",
    "    for swap in number_of_swaps:\n",
    "        dict_GD = copy.deepcopy(blockDictionary_GD)\n",
    "\n",
    "        for i in range(swap):\n",
    "\n",
    "            flag = True   \n",
    "\n",
    "            while flag:\n",
    "                rndm_block_1 = np.random.randint(len(dict_GD))\n",
    "                rndm_block_2 = np.random.randint(len(dict_GD))\n",
    "\n",
    "                if rndm_block_1 == rndm_block_2:\n",
    "                    continue\n",
    "                else:\n",
    "                    flag = False\n",
    "\n",
    "            temp_random_node_1 = random.sample(dict_GD[rndm_block_1],1)\n",
    "            temp_random_node_2 = random.sample(dict_GD[rndm_block_2],1)\n",
    "\n",
    "\n",
    "            temp_random_node_1 = temp_random_node_1[0]\n",
    "            temp_random_node_2 = temp_random_node_2[0]\n",
    "            # Performing the swap: It will have two parts\n",
    "\n",
    "            # 1. appending the node to the another block\n",
    "            dict_GD[rndm_block_1].append(temp_random_node_2)\n",
    "            dict_GD[rndm_block_2].append(temp_random_node_1)\n",
    "\n",
    "            # 2. removing the other node\n",
    "            dict_GD[rndm_block_1].remove(temp_random_node_1)\n",
    "            dict_GD[rndm_block_2].remove(temp_random_node_2)\n",
    "\n",
    "        del temp_random_node_1, temp_random_node_2\n",
    "        \n",
    "        dictionary_shuffled_blocks.append(dict_GD)"
   ]
  },
  {
   "cell_type": "code",
   "execution_count": 66,
   "metadata": {
    "ExecuteTime": {
     "end_time": "2020-11-22T10:35:22.009519Z",
     "start_time": "2020-11-22T10:30:03.493286Z"
    }
   },
   "outputs": [],
   "source": [
    "MI_list_dist = []\n",
    "\n",
    "for dict_i in dictionary_shuffled_blocks:\n",
    "    \n",
    "    contingency_matrix_shuff = contingency_matrix(SkelDysp_HumanAnottatedGroups,dict_i)\n",
    "    MI = COMPUTE_MUTUAL_INFORMATION(contingency_matrix_shuff)[0]\n",
    "    MI_list_dist.append(MI)\n",
    "    \n",
    "    "
   ]
  },
  {
   "cell_type": "code",
   "execution_count": 75,
   "metadata": {
    "ExecuteTime": {
     "end_time": "2020-11-22T11:29:37.898061Z",
     "start_time": "2020-11-22T11:29:37.731640Z"
    }
   },
   "outputs": [
    {
     "data": {
      "image/png": "[encoded data removed]",
      "text/plain": [
       "<Figure size 720x576 with 1 Axes>"
      ]
     },
     "metadata": {
      "needs_background": "light"
     },
     "output_type": "display_data"
    }
   ],
   "source": [
    "plt.figure(figsize=(10,8))\n",
    "\n",
    "plt.hist(MI_list_dist)\n",
    "plt.plot([MI_actual,MI_actual],\\\n",
    "         [0,120],\"-r\",\\\n",
    "         label='MI blocks and HPO')\n",
    "\n",
    "plt.xlabel(\"Mutual Information, bits\")\n",
    "plt.ylabel(\"frequency\")\n",
    "plt.title(\"Distribution for 100,000 swaps\")\n",
    "\n",
    "plt.legend()\n",
    " \n",
    "plt.show()\n"
   ]
  },
  {
   "cell_type": "markdown",
   "metadata": {
    "ExecuteTime": {
     "end_time": "2020-11-22T10:47:09.942424Z",
     "start_time": "2020-11-22T10:47:09.940073Z"
    }
   },
   "source": [
    "# Attaining P-value"
   ]
  },
  {
   "cell_type": "code",
   "execution_count": 83,
   "metadata": {
    "ExecuteTime": {
     "end_time": "2020-11-22T11:03:45.336117Z",
     "start_time": "2020-11-22T11:03:45.333506Z"
    }
   },
   "outputs": [],
   "source": [
    "DIST = np.array([MI_list_dist])"
   ]
  },
  {
   "cell_type": "code",
   "execution_count": 84,
   "metadata": {
    "ExecuteTime": {
     "end_time": "2020-11-22T11:03:45.774326Z",
     "start_time": "2020-11-22T11:03:45.771894Z"
    }
   },
   "outputs": [],
   "source": [
    "DIST = DIST.reshape(500,1)"
   ]
  },
  {
   "cell_type": "code",
   "execution_count": 85,
   "metadata": {
    "ExecuteTime": {
     "end_time": "2020-11-22T11:03:46.211474Z",
     "start_time": "2020-11-22T11:03:46.207124Z"
    }
   },
   "outputs": [],
   "source": [
    "import sklearn\n",
    "from sklearn.neighbors import KernelDensity\n",
    "\n",
    "kde_X = KernelDensity(kernel='gaussian', bandwidth=0.02).fit(DIST)\n",
    "MI_true = np.array(1.4974)\n",
    "MI_true = MI_true.reshape(1,-1)\n",
    "p_val_TRUE = np.exp(kde_X.score_samples(MI_true))"
   ]
  },
  {
   "cell_type": "code",
   "execution_count": 86,
   "metadata": {
    "ExecuteTime": {
     "end_time": "2020-11-22T11:03:46.693973Z",
     "start_time": "2020-11-22T11:03:46.690570Z"
    }
   },
   "outputs": [
    {
     "data": {
      "text/plain": [
       "array([6.01027537e-07])"
      ]
     },
     "execution_count": 86,
     "metadata": {},
     "output_type": "execute_result"
    }
   ],
   "source": [
    "p_val_TRUE"
   ]
  },
  {
   "cell_type": "code",
   "execution_count": 87,
   "metadata": {
    "ExecuteTime": {
     "end_time": "2020-11-22T11:03:47.210404Z",
     "start_time": "2020-11-22T11:03:47.207473Z"
    }
   },
   "outputs": [
    {
     "name": "stdout",
     "output_type": "stream",
     "text": [
      "0.000001\n"
     ]
    }
   ],
   "source": [
    "print('{:f}'.format(p_val_TRUE[0]))"
   ]
  },
  {
   "cell_type": "markdown",
   "metadata": {},
   "source": [
    "### Conclusion\n",
    "\n",
    "The final plot and the attained P-value demonstrate that under a null distribution of 500 independendent samples the Mutual Information between the block structure and the human annotated groupings from the 2019 Skeletal Dysplasias Nosology is extremely unlikely. <br>\n",
    "\n",
    "In addition, the P-value calculation is a confirmation of the previous conclusion, namely, it is almost impossible to find a Mutual Information value of 1.49 between the independent random samples. To compute this value, we used a kernel density estimator with band width equals to 0.02. "
   ]
  },
  {
   "cell_type": "code",
   "execution_count": null,
   "metadata": {},
   "outputs": [],
   "source": []
  },
  {
   "cell_type": "code",
   "execution_count": null,
   "metadata": {},
   "outputs": [],
   "source": []
  }
 ],
 "metadata": {
  "kernelspec": {
   "display_name": "Python 3",
   "language": "python",
   "name": "python3"
  },
  "language_info": {
   "codemirror_mode": {
    "name": "ipython",
    "version": 3
   },
   "file_extension": ".py",
   "mimetype": "text/x-python",
   "name": "python",
   "nbconvert_exporter": "python",
   "pygments_lexer": "ipython3",
   "version": "3.8.5"
  },
  "toc": {
   "base_numbering": 1,
   "nav_menu": {},
   "number_sections": true,
   "sideBar": true,
   "skip_h1_title": false,
   "title_cell": "Table of Contents",
   "title_sidebar": "Contents",
   "toc_cell": false,
   "toc_position": {},
   "toc_section_display": true,
   "toc_window_display": false
  }
 },
 "nbformat": 4,
 "nbformat_minor": 4
}
